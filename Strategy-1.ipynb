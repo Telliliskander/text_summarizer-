{
 "cells": [
  {
   "cell_type": "markdown",
   "metadata": {},
   "source": [
    "# Strategy - 1 : Write clear instructions"
   ]
  },
  {
   "cell_type": "markdown",
   "metadata": {},
   "source": [
    "### Setup"
   ]
  },
  {
   "cell_type": "code",
   "execution_count": 14,
   "metadata": {},
   "outputs": [],
   "source": [
    "from setup_module import *"
   ]
  },
  {
   "cell_type": "markdown",
   "metadata": {},
   "source": [
    "### Tactic: Be more specific \n",
    "Include details in your query to get more relevant answers\n",
    "In order to get a highly relevant response, make sure that requests provide any important details or context. Otherwise you are leaving it up to the model to guess what you mean."
   ]
  },
  {
   "cell_type": "code",
   "execution_count": 15,
   "metadata": {},
   "outputs": [
    {
     "name": "stdout",
     "output_type": "stream",
     "text": [
      "To add numbers in Excel, you can use the SUM function or simply use the plus (+) operator. Here are two methods:\n",
      "\n",
      "1. Using the SUM function:\n",
      "   a. Select the cell where you want the sum to appear.\n",
      "   b. Type \"=SUM(\" and then select the range of cells you want to add. For example, if you want to add the numbers in cells A1 to A5, you would type \"=SUM(A1:A5)\".\n",
      "   c. Close the parentheses and press Enter. The sum of the selected cells will be displayed in the cell.\n",
      "\n",
      "2. Using the plus (+) operator:\n",
      "   a. Select the cell where you want the sum to appear.\n",
      "   b. Type \"=\" and then select the first cell you want to add.\n",
      "   c. Type \"+\" and then select the next cell you want to add.\n",
      "   d. Repeat step c for all the cells you want to add.\n",
      "   e. Press Enter. The sum of the selected cells will be displayed in the cell.\n",
      "\n",
      "You can also use the AutoSum button on the toolbar to quickly add a range of cells. Simply select the cell where you want the sum to appear, click on the AutoSum button, and Excel will automatically select what it thinks is the range you want to add. Press Enter to display the sum.\n"
     ]
    }
   ],
   "source": [
    "# Breaking the tactic \n",
    "prompt='How do I add numbers in Excel?'\n",
    "print(get_response(prompt))"
   ]
  },
  {
   "cell_type": "code",
   "execution_count": 3,
   "metadata": {},
   "outputs": [
    {
     "name": "stdout",
     "output_type": "stream",
     "text": [
      "To add up a row of dollar amounts in Excel and automatically calculate the totals for multiple rows, you can use the SUM function along with the AutoSum feature. Here's how you can do it:\n",
      "\n",
      "1. Open your Excel spreadsheet and navigate to the sheet where you want to calculate the totals.\n",
      "\n",
      "2. Select the cell where you want the first total to appear. In this case, it would be the first cell under the \"Total\" column.\n",
      "\n",
      "3. Type the formula \"=SUM(\" and then select the range of cells you want to add up. For example, if you want to add up the values in cells A2 to D2, you would type \"=SUM(A2:D2)\".\n",
      "\n",
      "4. Press Enter to calculate the total for that row. The sum of the selected cells will appear in the cell you selected.\n",
      "\n",
      "5. To automatically calculate the totals for the remaining rows, move your cursor to the bottom right corner of the cell with the total until it turns into a small black crosshair.\n",
      "\n",
      "6. Click and drag the crosshair down to apply the formula to the rest of the cells in the \"Total\" column. Excel will adjust the formula for each row, adding up the corresponding cells.\n",
      "\n",
      "Now, the totals for each row should be automatically calculated and displayed in the \"Total\" column.\n"
     ]
    }
   ],
   "source": [
    "# Respecting the tactic\n",
    "prompt='''How do I add up a row of dollar amounts in Excel? I want to do this automatically for a whole sheet of rows \n",
    "          with all the totals ending up on the right in a column called \"Total\".'''\n",
    "print(get_response(prompt))"
   ]
  },
  {
   "cell_type": "markdown",
   "metadata": {},
   "source": [
    "### Tactic: Ask the model to adopt a persona\n",
    "The system message can be used to specify the persona used by the model in its replies.\n",
    "Its a message that frames the response "
   ]
  },
  {
   "cell_type": "code",
   "execution_count": 7,
   "metadata": {},
   "outputs": [
    {
     "name": "stdout",
     "output_type": "stream",
     "text": [
      "Dear Steel Bolt Vendor,\n",
      "\n",
      "I hope this note finds you bolt-tifully well! I wanted to take a moment to express my deepest gratitude for your incredible efforts in getting our recent delivery to us on time and on short notice. You truly bolted into action and saved the day!\n",
      "\n",
      "I must say, your efficiency is truly riveting! It's not every day that we come across a vendor who can deliver with such speed and precision. You've proven to be the bolt supplier of our dreams, and we couldn't be more grateful.\n",
      "\n",
      "Thanks to your prompt delivery, we were able to fulfill an important order for our client. They were absolutely thrilled to receive their steel bolts on time, and we owe it all to you. You've certainly bolted your way into our hearts!\n",
      "\n",
      "Your dedication and commitment to customer satisfaction are truly commendable. It's clear that you take your job seriously, but you also know how to have a little fun along the way. Just like a well-oiled machine, you seamlessly balance professionalism with a playful spirit.\n",
      "\n",
      "We appreciate your attention to detail and the high-quality bolts you consistently provide. It's comforting to know that we can rely on you, even in the tightest of deadlines. You've proven time and time again that you're the bolt vendor we can count on, no matter what.\n",
      "\n",
      "Once again, thank you from the bottom of our hearts for your exceptional service. We look forward to continuing our partnership and sharing many more bolt-tastic adventures together. Keep up the fantastic work, and remember to always stay bolt-ifully awesome!\n",
      "\n",
      "With heartfelt thanks,\n",
      "\n",
      "[Your Name]\n"
     ]
    }
   ],
   "source": [
    "# Respecting the tactic\n",
    "system_prompt='''When I ask for help to write something, you will reply with a document that contains at least one joke \n",
    "                 or playful comment in every paragraph.'''\n",
    "user_prompt='''Write a thank you note to my steel bolt vendor for getting the delivery in on time and in short notice. \n",
    "               This made it possible for us to deliver an important order.'''\n",
    "print(get_response(user_prompt, system_prompt))"
   ]
  },
  {
   "cell_type": "code",
   "execution_count": 8,
   "metadata": {},
   "outputs": [
    {
     "name": "stdout",
     "output_type": "stream",
     "text": [
      "Dear [Vendor's Name],\n",
      "\n",
      "I hope this note finds you well. I wanted to take a moment to express my sincere gratitude for your exceptional service and timely delivery of the steel bolts we urgently needed for an important order.\n",
      "\n",
      "We were faced with a challenging situation when we realized that we were short on steel bolts for this particular order. However, your prompt response and ability to deliver the bolts on such short notice truly saved the day. Your commitment to meeting our needs and ensuring that we could fulfill our customer's requirements is greatly appreciated.\n",
      "\n",
      "Not only did you manage to deliver the steel bolts in record time, but the quality of the product was also outstanding. Your attention to detail and dedication to providing us with top-notch materials did not go unnoticed. It is suppliers like you who make our job easier and enable us to maintain our reputation for delivering high-quality products to our customers.\n",
      "\n",
      "Please convey our heartfelt thanks to your entire team for their hard work and dedication. We understand that meeting our request on such short notice required extra effort and we are truly grateful for your willingness to go above and beyond.\n",
      "\n",
      "We look forward to continuing our partnership with you in the future. Your reliability and commitment to customer satisfaction make you an invaluable asset to our business. Should we require any further steel bolts or other materials, we will not hesitate to reach out to you.\n",
      "\n",
      "Once again, thank you for your exceptional service. We are truly grateful for your support and look forward to many more successful collaborations in the future.\n",
      "\n",
      "Warmest regards,\n",
      "\n",
      "[Your Name]\n"
     ]
    }
   ],
   "source": [
    "# Breaking the tactic\n",
    "user_prompt='''Write a thank you note to my steel bolt vendor for getting the delivery in on time and in short notice. \n",
    "               This made it possible for us to deliver an important order.'''\n",
    "print(get_response(user_prompt))"
   ]
  },
  {
   "cell_type": "markdown",
   "metadata": {},
   "source": [
    "### Tactic: Distinguish your parts of the input\n",
    "Delimiters like triple quotation marks, XML tags, section titles, etc. can help demarcate sections of text to be treated differently."
   ]
  },
  {
   "cell_type": "code",
   "execution_count": 10,
   "metadata": {},
   "outputs": [
    {
     "name": "stdout",
     "output_type": "stream",
     "text": [
      "Article 1 argues that renewable energy sources, such as solar and wind power, are a sustainable solution to our energy needs. It highlights the abundance of these sources, their eco-friendliness, and their ability to reduce our dependence on fossil fuels. The article also mentions that embracing renewables can help mitigate climate change and create jobs in the green energy sector. It emphasizes the importance of transitioning to cleaner energy for a greener future.\n",
      "\n",
      "Article 2 acknowledges the appeal of renewable energy but raises concerns about its widespread adoption. It mentions the intermittency of sources like solar and wind, which requires efficient energy storage solutions. The article also points out the high initial costs of implementing renewable technologies. It argues that a more realistic approach involves a gradual shift and balancing the transition to renewables with economic considerations.\n",
      "\n",
      "In terms of which article makes a better argument, it depends on the perspective. Article 1 presents a strong case for the benefits of renewable energy, highlighting its sustainability, eco-friendliness, and job creation potential. It also emphasizes the urgency of transitioning to cleaner energy to mitigate climate change. This argument is compelling for those who prioritize environmental concerns and the long-term benefits of renewable energy.\n",
      "\n",
      "On the other hand, Article 2 raises valid concerns about the challenges of widespread adoption of renewable energy. It acknowledges the need for efficient energy storage solutions and the high initial costs. This argument is more realistic and practical, considering the complexities of integrating renewable energy into existing infrastructures. It appeals to those who prioritize economic considerations and the need for a gradual transition.\n",
      "\n",
      "Overall, both articles present valid points, but Article 2 makes a better argument in terms of considering the challenges and complexities of transitioning to renewable energy. It acknowledges the need for a balanced approach that takes into account economic considerations and the gradual integration of renewables. This argument is more likely to resonate with a wider audience and facilitate a smoother transition to cleaner energy.\n"
     ]
    }
   ],
   "source": [
    "# Breaking the tactic\n",
    "system_prompt = '''You will be provided with a pair of articles about the same topic. \n",
    "   First summarize the arguments of each article. Then indicate which of them makes a better argument and explain why.'''\n",
    "   \n",
    "user_prompt='''Renewable energy sources, such as solar and wind power, offer a sustainable solution to our growing energy needs. \n",
    "                         These sources are abundant, eco-friendly, and reduce our dependence on fossil fuels. Embracing renewables not only \n",
    "                         mitigates climate change but also creates jobs in the booming green energy sector. Transitioning to cleaner energy \n",
    "                         is an imperative step toward a greener future. While the idea of renewable energy is appealing, its widespread adoption poses challenges. The intermittency \n",
    "                         of sources like solar and wind requires efficient energy storage solutions. Additionally, the initial costs of \n",
    "                         implementing renewable technologies can be high. Balancing the transition to renewables with economic considerations \n",
    "                         is crucial to avoid unintended consequences. A more realistic approach involves a gradual shift, acknowledging the \n",
    "                         complexities of integrating renewable energy into existing infrastructures. \n",
    "            '''\n",
    "print(get_response(user_prompt, system_prompt))"
   ]
  },
  {
   "cell_type": "code",
   "execution_count": 11,
   "metadata": {},
   "outputs": [
    {
     "name": "stdout",
     "output_type": "stream",
     "text": [
      "Article 1 argues that renewable energy sources, such as solar and wind power, are a sustainable solution to our energy needs. It highlights that these sources are abundant, eco-friendly, and reduce our dependence on fossil fuels. The article also mentions that embracing renewables not only helps mitigate climate change but also creates jobs in the green energy sector. It emphasizes that transitioning to cleaner energy is an important step towards a greener future.\n",
      "\n",
      "Article 2 acknowledges the appeal of renewable energy but raises concerns about its widespread adoption. It points out the intermittency of sources like solar and wind, which requires efficient energy storage solutions. The article also mentions the high initial costs of implementing renewable technologies. It argues that a more realistic approach involves a gradual shift, considering the complexities of integrating renewable energy into existing infrastructures. Balancing the transition to renewables with economic considerations is crucial to avoid unintended consequences.\n",
      "\n",
      "In terms of making a better argument, Article 2 presents a more balanced perspective. While Article 1 focuses on the benefits of renewable energy, Article 2 acknowledges the challenges and complexities associated with its adoption. By considering the intermittency of sources and the high initial costs, Article 2 provides a more realistic view of the situation. It also emphasizes the importance of balancing the transition to renewables with economic considerations. This balanced approach makes Article 2's argument stronger as it takes into account both the advantages and challenges of renewable energy.\n"
     ]
    }
   ],
   "source": [
    "# Respecting the tactic\n",
    "system_prompt = '''You will be provided with a pair of articles (delimited with XML tags) about the same topic. \n",
    "   First summarize the arguments of each article. Then indicate which of them makes a better argument and explain why.'''\n",
    "   \n",
    "user_prompt='''<article> Renewable energy sources, such as solar and wind power, offer a sustainable solution to our growing energy needs. \n",
    "                         These sources are abundant, eco-friendly, and reduce our dependence on fossil fuels. Embracing renewables not only \n",
    "                         mitigates climate change but also creates jobs in the booming green energy sector. Transitioning to cleaner energy \n",
    "                         is an imperative step toward a greener future. \n",
    "               </article>\n",
    "\n",
    "               <article> While the idea of renewable energy is appealing, its widespread adoption poses challenges. The intermittency \n",
    "                         of sources like solar and wind requires efficient energy storage solutions. Additionally, the initial costs of \n",
    "                         implementing renewable technologies can be high. Balancing the transition to renewables with economic considerations \n",
    "                         is crucial to avoid unintended consequences. A more realistic approach involves a gradual shift, acknowledging the \n",
    "                         complexities of integrating renewable energy into existing infrastructures. \n",
    "               </article>'''\n",
    "print(get_response(user_prompt, system_prompt))"
   ]
  },
  {
   "cell_type": "markdown",
   "metadata": {},
   "source": [
    "For straightforward tasks such as these, using delimiters might not make a difference in the output quality. However, the more complex a task is the more important it is to disambiguate task details. Don’t make the model work to understand exactly what you are asking of them."
   ]
  },
  {
   "cell_type": "code",
   "execution_count": null,
   "metadata": {},
   "outputs": [],
   "source": []
  }
 ],
 "metadata": {
  "kernelspec": {
   "display_name": "text_Summarizer-CBgwxOiG",
   "language": "python",
   "name": "python3"
  },
  "language_info": {
   "codemirror_mode": {
    "name": "ipython",
    "version": 3
   },
   "file_extension": ".py",
   "mimetype": "text/x-python",
   "name": "python",
   "nbconvert_exporter": "python",
   "pygments_lexer": "ipython3",
   "version": "3.11.0"
  }
 },
 "nbformat": 4,
 "nbformat_minor": 2
}
