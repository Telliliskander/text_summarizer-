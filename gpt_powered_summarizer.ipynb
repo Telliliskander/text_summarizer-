{
 "cells": [
  {
   "cell_type": "code",
   "execution_count": 6,
   "metadata": {},
   "outputs": [],
   "source": [
    "import os\n",
    "\n",
    "# Specify the file path\n",
    "file_path = '.env'\n",
    "\n",
    "# Check if the file exists\n",
    "if os.path.exists(file_path):\n",
    "    # Open the file in read mode\n",
    "    with open(file_path, 'r') as file:\n",
    "        # Read the content of the file\n",
    "        content = file.read()\n",
    "\n",
    "API_KEY=content[len('OPENAI_API_KEY=')::] # in .env we have : OPENAI_API_KEY=*******\n",
    "\n"
   ]
  },
  {
   "cell_type": "code",
   "execution_count": 7,
   "metadata": {},
   "outputs": [],
   "source": [
    "from openai import OpenAI\n",
    "import os \n",
    "# defaults to getting the key using os.environ.get(\"OPENAI_API_KEY\")\n",
    "# if you saved the key under a different environment variable name, you can do something like:\n",
    "client = OpenAI(\n",
    "  api_key=API_KEY,\n",
    ")"
   ]
  },
  {
   "cell_type": "code",
   "execution_count": 8,
   "metadata": {},
   "outputs": [
    {
     "name": "stdout",
     "output_type": "stream",
     "text": [
      "ChatCompletionMessage(content=\"In the realm of programming's mystical art,\\nWhere lines of code and algorithms impart,\\nThere lies a concept, hauntingly profound,\\nA method woven in magic, truly renowned.\\n\\nBehold, dear souls, the wonders of recursion,\\nA notion shrouded in profound immersion,\\nLike a mirror reflecting its own reflection,\\nWith mesmerizing elegance, defying detection.\\n\\nWhen a function calls itself, oh what a sight,\\nAn enchanting dance of logic, shining bright,\\nWith each invocation, a new instance is born,\\nAs the mystical cycle forever goes on.\\n\\nImagine a tale, with a character so bold,\\nSeeking answers in a treasure trove untold,\\nYet entangled in layers, a labyrinthine maze,\\nRecursive whispers guiding each step, always.\\n\\nIn the tapestry of code, threads intertwine,\\nBranching out in patterns both vast and fine,\\nLike fractal wonders, infinite and endless,\\nClarity concealed within recursive pretenses.\\n\\nBut heed this warning, valiant coders brave,\\nRecursion, a double-edged sword some crave,\\nFor without a base case to halt the allure,\\nThe tale becomes an infinite loop, obscure.\\n\\nYet fear not, for in every secret endeavor,\\nThere are safeguards, instructions to sever,\\nThe infinite loop, to bring it to an end,\\nA stopping condition, let wisdom ascend.\\n\\nRecursion, dear seekers, a captivating spell,\\nIn the realm of programming, where marvels dwell,\\nLike a symphony playing in elegant precision,\\nIt weaves its magic with graceful intuition.\", role='assistant', function_call=None, tool_calls=None)\n"
     ]
    }
   ],
   "source": [
    "completion = client.chat.completions.create(\n",
    "  model=\"gpt-3.5-turbo\",\n",
    "  messages=[\n",
    "    {\"role\": \"system\", \"content\": \"You are a poetic assistant, skilled in explaining complex programming concepts with creative flair.\"},\n",
    "    {\"role\": \"user\", \"content\": \"Compose a poem that explains the concept of recursion in programming.\"}\n",
    "  ]\n",
    ")\n",
    "\n",
    "print(completion.choices[0].message)"
   ]
  }
 ],
 "metadata": {
  "kernelspec": {
   "display_name": "text_Summarizer-CBgwxOiG",
   "language": "python",
   "name": "python3"
  },
  "language_info": {
   "codemirror_mode": {
    "name": "ipython",
    "version": 3
   },
   "file_extension": ".py",
   "mimetype": "text/x-python",
   "name": "python",
   "nbconvert_exporter": "python",
   "pygments_lexer": "ipython3",
   "version": "3.11.0"
  }
 },
 "nbformat": 4,
 "nbformat_minor": 2
}
