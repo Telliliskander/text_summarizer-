{
 "cells": [
  {
   "cell_type": "code",
   "execution_count": 22,
   "metadata": {},
   "outputs": [],
   "source": [
    "import os\n",
    "\n",
    "# Specify the file path\n",
    "file_path = '.env'\n",
    "\n",
    "# Check if the file exists\n",
    "if os.path.exists(file_path):\n",
    "    # Open the file in read mode\n",
    "    with open(file_path, 'r') as file:\n",
    "        # Read the content of the file\n",
    "        content = file.read()\n",
    "\n",
    "API_KEY=content[len('OPENAI_API_KEY=')::] # in .env we have : OPENAI_API_KEY=*******\n",
    "\n"
   ]
  },
  {
   "cell_type": "code",
   "execution_count": 23,
   "metadata": {},
   "outputs": [],
   "source": [
    "from openai import OpenAI\n",
    "import os \n",
    "# defaults to getting the key using os.environ.get(\"OPENAI_API_KEY\")\n",
    "# if you saved the key under a different environment variable name, you can do something like:\n",
    "client = OpenAI(\n",
    "  api_key=API_KEY,\n",
    ")"
   ]
  },
  {
   "cell_type": "code",
   "execution_count": 24,
   "metadata": {},
   "outputs": [],
   "source": [
    "text = '''ChatGPT is a natural language processing tool driven by AI technology that allows you to have human-like conversations and much more with the chatbot. The language model can answer questions and assist you with tasks, such as composing emails, essays, and code.\n",
    "It's currently open to use by the public for free. A paid subscription version called ChatGPT Plus launched at the beginning of February.'''"
   ]
  },
  {
   "cell_type": "code",
   "execution_count": 25,
   "metadata": {},
   "outputs": [
    {
     "name": "stdout",
     "output_type": "stream",
     "text": [
      "ChatGPT is an AI-driven natural language processing tool that enables human-like conversations and more. The language model can answer questions and assist with tasks such as composing emails, essays, and code. It is currently available for free public use, with a paid subscription version called ChatGPT Plus launching in February.\n"
     ]
    }
   ],
   "source": [
    "# Writing prompt to chatGPT \n",
    "prompt = \"Here is a piece of text that I want you to summarize : {sentences}\"\n",
    "prompt = prompt.format(sentences = \"\\n\".join(text))\n",
    "# Making request \n",
    "completion = client.chat.completions.create(\n",
    "    model=\"gpt-3.5-turbo\",\n",
    "    messages=[\n",
    "        {\"role\": \"system\", \"content\": \"You are an assistant that is able to read a piece of text and summarize it as described in the prompt.\"},\n",
    "        {\"role\": \"user\", \"content\": prompt}\n",
    "            ]\n",
    ")\n",
    "\n",
    "# Getying the summarized text\n",
    "summarized_sentence = completion.choices[0].message.content\n",
    "print(summarized_sentence)\n",
    "\n",
    "# Close the client\n",
    "client.close()\n"
   ]
  }
 ],
 "metadata": {
  "kernelspec": {
   "display_name": "text_Summarizer-CBgwxOiG",
   "language": "python",
   "name": "python3"
  },
  "language_info": {
   "codemirror_mode": {
    "name": "ipython",
    "version": 3
   },
   "file_extension": ".py",
   "mimetype": "text/x-python",
   "name": "python",
   "nbconvert_exporter": "python",
   "pygments_lexer": "ipython3",
   "version": "3.11.0"
  }
 },
 "nbformat": 4,
 "nbformat_minor": 2
}
